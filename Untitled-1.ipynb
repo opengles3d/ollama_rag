{
 "cells": [
  {
   "cell_type": "code",
   "execution_count": 1,
   "id": "a594b4d2",
   "metadata": {},
   "outputs": [
    {
     "name": "stdout",
     "output_type": "stream",
     "text": [
      "1\n",
      "2\n",
      "3\n",
      "4\n",
      "5\n"
     ]
    }
   ],
   "source": [
    "list = [1, 2, 3, 4, 5]\n",
    "for i in list:\n",
    "    print(i)"
   ]
  },
  {
   "cell_type": "code",
   "execution_count": 1,
   "id": "bb62458d",
   "metadata": {},
   "outputs": [
    {
     "name": "stdout",
     "output_type": "stream",
     "text": [
      "--------1933 - 1872--------\n"
     ]
    },
    {
     "data": {
      "text/plain": [
       "'61'"
      ]
     },
     "execution_count": 1,
     "metadata": {},
     "output_type": "execute_result"
    }
   ],
   "source": [
    "import ast\n",
    "def calculator(query: str) -> str:\n",
    "    \"\"\"\n",
    "    A simple calculator that can do basic arithmetic operations.\n",
    "    \"\"\"\n",
    "    print(f\"--------{query}--------\")\n",
    "    try:\n",
    "        # 只保留数字和运算符，防止非法输入\n",
    "        allowed = \"0123456789+-*/(). \"\n",
    "        safe_query = \"\".join(c for c in query if c in allowed)\n",
    "        result = eval(safe_query, {\"__builtins__\": {}})\n",
    "        return str(result)\n",
    "    except Exception as e:\n",
    "        return f\"Error: {e}\"\n",
    "\n",
    "calculator(\"1933 - 1872\")    "
   ]
  },
  {
   "cell_type": "code",
   "execution_count": null,
   "id": "3e3dc3de",
   "metadata": {},
   "outputs": [
    {
     "name": "stdout",
     "output_type": "stream",
     "text": [
      "Raw output: {\"searchQuery\": \"工商银行 宇宙行 原因\"}\n",
      "工商银行 宇宙行 原因\n"
     ]
    }
   ],
   "source": [
    "import json\n",
    "from openai import OpenAI\n",
    "import re\n",
    "\n",
    "client = OpenAI(\n",
    "    api_key=\"123\",\n",
    "    base_url=\"http://localhost:11434/v1\", \n",
    ")\n",
    "\n",
    "# Search\n",
    "user_question = \"工商银行2024年海外布局？\"\n",
    "#user_question = \"工商银行为什么被成为”宇宙行“？\"\n",
    "\n",
    "# Helper functions\n",
    "def json_gpt(input: str):\n",
    "    completion = client.chat.completions.create(\n",
    "        model=\"qwen3:4b\",\n",
    "        messages=[\n",
    "            {\"role\": \"system\", \"content\": \"Output only valid JSON\"},\n",
    "            {\"role\": \"user\", \"content\": input},\n",
    "        ],\n",
    "        temperature=0.2,\n",
    "    )\n",
    "\n",
    "    text = completion.choices[0].message.content\n",
    "    \n",
    "    text = re.sub(r\"<think>.*?</think>\", \"\", text, flags=re.DOTALL)\n",
    "    text = text.strip()\n",
    "    print(f\"Raw output: {text}\")\n",
    "    parsed = json.loads(text)\n",
    "\n",
    "    return parsed\n",
    "\n",
    "\n",
    "HA_INPUT = f\"\"\"\n",
    "You are a financial report analysis assistant.\n",
    "You have access to a search API that returns relevant sections from a financial report.\n",
    "Generate a search query by extracting key words from the user's question.\n",
    "\n",
    "User question: {user_question}\n",
    "\n",
    "Format: {{\"searchQuery\": \"search query\"}}\n",
    "\"\"\"\n",
    "passed = json_gpt(HA_INPUT)\n",
    "query_str = passed[\"searchQuery\"]\n",
    "print(query_str)"
   ]
  }
 ],
 "metadata": {
  "kernelspec": {
   "display_name": "python_env1",
   "language": "python",
   "name": "python3"
  },
  "language_info": {
   "codemirror_mode": {
    "name": "ipython",
    "version": 3
   },
   "file_extension": ".py",
   "mimetype": "text/x-python",
   "name": "python",
   "nbconvert_exporter": "python",
   "pygments_lexer": "ipython3",
   "version": "3.13.3"
  }
 },
 "nbformat": 4,
 "nbformat_minor": 5
}
